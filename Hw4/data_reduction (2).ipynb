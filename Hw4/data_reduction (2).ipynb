{
 "cells": [
  {
   "cell_type": "code",
   "execution_count": 26,
   "metadata": {},
   "outputs": [],
   "source": [
    "from __future__ import print_function\n",
    "import numpy as np\n",
    "from astropy.io import fits\n",
    "import glob"
   ]
  },
  {
   "cell_type": "markdown",
   "metadata": {},
   "source": [
    "## Step 1\n",
    "### Make a master bias frame:"
   ]
  },
  {
   "cell_type": "code",
   "execution_count": 27,
   "metadata": {},
   "outputs": [],
   "source": [
    "indir = 'C:/Users/demar/Downloads/20200306-OGSRC20/data_reduction/' # directory with data reduction images\n",
    "\n",
    "b_list = glob.glob(indir + 'bias*.fit') # Select all FITS files with “bias” in filename, save list as “blist”\n"
   ]
  },
  {
   "cell_type": "code",
   "execution_count": 28,
   "metadata": {},
   "outputs": [
    {
     "name": "stdout",
     "output_type": "stream",
     "text": [
      "Found  10  bias files\n"
     ]
    }
   ],
   "source": [
    "im,hdr = fits.getdata(b_list[0], dtype='f', header=True) # Read the first bias file pixel data and header\n",
    "bias_n = len(b_list) # Number of bias images\n",
    "\n",
    "print ('Found ', bias_n, ' bias files')"
   ]
  },
  {
   "cell_type": "code",
   "execution_count": 29,
   "metadata": {},
   "outputs": [],
   "source": [
    "bias_mean = im/float(bias_n) # Start assembling average master bias by dividing by N \n",
    "\n",
    "for i in range(1,bias_n): # Loop to add each bias file into average\n",
    "    \n",
    "    im = fits.getdata(b_list[i])\n",
    "    \n",
    "    bias_mean = bias_mean + im/float(bias_n)\n",
    "    \n",
    "#fits.writeto(indir + 'bias_mean.fits',bias_mean, hdr, overwrite=True) # Save the image as bias_mean.fits\n"
   ]
  },
  {
   "cell_type": "markdown",
   "metadata": {},
   "source": [
    "## Step 2\n",
    "### Make a master dark frame:\n",
    "\n",
    "- Need to start by subtracting the mean bias from the from the raw dark frames. "
   ]
  },
  {
   "cell_type": "code",
   "execution_count": 30,
   "metadata": {},
   "outputs": [
    {
     "name": "stdout",
     "output_type": "stream",
     "text": [
      "Found  10 dark files.\n"
     ]
    }
   ],
   "source": [
    "d_list = glob.glob(indir + 'dark*.fit')  \n",
    "\n",
    "im_d,hdr = fits.getdata(d_list[0], dtype='f', header=True) \n",
    "dark_n = len(d_list) \n",
    "\n",
    "print('Found ', dark_n, 'dark files.') \n"
   ]
  },
  {
   "cell_type": "code",
   "execution_count": 31,
   "metadata": {},
   "outputs": [],
   "source": [
    "for i in range(0,dark_n):    # loop to subtract mean bias\n",
    "    \n",
    "    im_d = fits.getdata(d_list[i])\n",
    "    \n",
    "    basename = d_list[i].strip('.fit')\n",
    "    \n",
    "    dark_subtracted = im_d - bias_mean\n",
    "    \n",
    "    #fits.writeto(basename + '.bias.fits',dark_subtracted, hdr, overwrite=True) # the bias corrected images will have .bias at the end"
   ]
  },
  {
   "cell_type": "markdown",
   "metadata": {},
   "source": [
    "Note: you should see a new file for each dark frame in your directory. It is good to double check that they are there and what they look like using DS9 specifically looking at the count of each pixel. "
   ]
  },
  {
   "cell_type": "markdown",
   "metadata": {},
   "source": [
    "### Proceed to making the master dark frame"
   ]
  },
  {
   "cell_type": "code",
   "execution_count": 32,
   "metadata": {},
   "outputs": [],
   "source": [
    "d_list_2 = glob.glob(indir + 'dark*.bias.fit*') # Select all FITS files with “bias” in filename, save list as “blist”\n",
    "\n",
    "im1,hdr = fits.getdata(d_list_2[0], dtype='f', header=True) # Read the first bias file pixel data and header\n",
    "\n",
    "dim0 = im1.shape[0] # Dimensions of the image\n",
    "dim1 = im1.shape[1]\n",
    "\n",
    "img_array = np.zeros([dark_n,dim0,dim1]) # initialize image array"
   ]
  },
  {
   "cell_type": "code",
   "execution_count": 33,
   "metadata": {},
   "outputs": [],
   "source": [
    "for i in range(0,dark_n): # loop to fill array with raw bias images\n",
    "    \n",
    "    im,hdr = fits.getdata(d_list_2[i], header=True)\n",
    "    \n",
    "    img_array[i] = im\n",
    "\n",
    "dark_med = np.median(img_array,axis=0) # take median of each pixel in image stack\n",
    "\n",
    "#fits.writeto(indir+'dark_med.fits',dark_med/hdr['EXPTIME'],hdr,overwrite=True) # save FITS file"
   ]
  },
  {
   "cell_type": "markdown",
   "metadata": {},
   "source": [
    "## Step 3\n",
    "### Make a master flat frame (for each filter):\n",
    "\n",
    "- We need to subtract the master dark frame and bias frame from each flat frame prior to making the master flat.\n",
    "\n"
   ]
  },
  {
   "cell_type": "code",
   "execution_count": 9,
   "metadata": {},
   "outputs": [
    {
     "name": "stdout",
     "output_type": "stream",
     "text": [
      "Found  15 flat files.\n"
     ]
    }
   ],
   "source": [
    "f_list = glob.glob(indir + 'flat*.fit')  # Select all flat files, save list as \"f_list\"\n",
    "\n",
    "im_f,hdr = fits.getdata(f_list[0], dtype='f', header=True)  \n",
    "flat_n = len(f_list) \n",
    "\n",
    "print('Found ', flat_n, 'flat files.') # Check number of flat files"
   ]
  },
  {
   "cell_type": "markdown",
   "metadata": {},
   "source": [
    "#### Subtract mean bias from flat frame"
   ]
  },
  {
   "cell_type": "code",
   "execution_count": 10,
   "metadata": {},
   "outputs": [],
   "source": [
    "for i in range(0,flat_n):      # Loop to subtract mean bias \n",
    "    \n",
    "    im_f = fits.getdata(f_list[i]) \n",
    "    \n",
    "    basename = f_list[i].strip('.fit')\n",
    "    \n",
    "    flat_subtracted = im_f - bias_mean\n",
    "    \n",
    "    fits.writeto(basename+'.bias.fits',flat_subtracted, hdr, overwrite=True) "
   ]
  },
  {
   "cell_type": "markdown",
   "metadata": {},
   "source": [
    "#### Subtract master dark frame from flat frame"
   ]
  },
  {
   "cell_type": "code",
   "execution_count": 11,
   "metadata": {},
   "outputs": [
    {
     "name": "stdout",
     "output_type": "stream",
     "text": [
      "Found  15 flat files.\n"
     ]
    }
   ],
   "source": [
    "f_list_2 = glob.glob(indir + 'flat*.bias.fits*')  # Assigning all bias subtracted flat files to f_list_2\n",
    "flat_n = len(f_list_2)\n",
    "\n",
    "print('Found ', flat_n, 'flat files.') # Check number of flat files"
   ]
  },
  {
   "cell_type": "code",
   "execution_count": 12,
   "metadata": {},
   "outputs": [],
   "source": [
    "for i in range(0,flat_n):      # Loop to subtract the master dark frame from each flat file frame\n",
    "    \n",
    "    im_f,hdr = fits.getdata(f_list_2[i], header=True) \n",
    "    \n",
    "    basename = f_list_2[i].strip('.fits')\n",
    "    \n",
    "    dark_subtracted = im_f - dark_med\n",
    "    \n",
    "    fits.writeto(basename+'.dark.fits',dark_subtracted, hdr, overwrite=True) "
   ]
  },
  {
   "cell_type": "markdown",
   "metadata": {},
   "source": [
    "#### Proceed to making the master flat field frame"
   ]
  },
  {
   "cell_type": "code",
   "execution_count": 4,
   "metadata": {},
   "outputs": [
    {
     "name": "stdout",
     "output_type": "stream",
     "text": [
      "Found  5 B flat files.\n",
      "Found  5 R flat files.\n",
      "Found  5 V flat files.\n"
     ]
    }
   ],
   "source": [
    "filters = ['B','R','V'] # List of filter names used in this dataset\n",
    "\n",
    "for filter in filters: # Loop through the list of filters one at a time\n",
    "    \n",
    "    flat_list = glob.glob(indir + 'flat*' + filter + '.bia.dark.fits')  \n",
    "    \n",
    "    im_f,hdr = fits.getdata(flat_list[0], dtype='f', header=True)  # Data for first flat file\n",
    "    \n",
    "    flat_n = len(flat_list) #number of flat files()\n",
    "    \n",
    "    print('Found ', flat_n, filter, 'flat files.') # Print number of flat files\n",
    "\n",
    "    dim0 = im_f.shape[0] # get dimensions of the images\n",
    "    dim1 = im_f.shape[1]\n",
    "    \n",
    "    img_array = np.zeros([flat_n,dim0,dim1]) # Initialize image array\n",
    "    \n",
    "    for i in range(0,flat_n):      # Loop to choose the median value for each pixel to make master flat\n",
    "        \n",
    "        im_f,hdr = fits.getdata(flat_list[i], header=True) \n",
    "        \n",
    "        img_array[i] = im_f \n",
    "    \n",
    "    masterflat = np.median(img_array, axis=0)\n",
    "    \n",
    "    fits.writeto(indir+'masterflat_'+filter+'.fits',masterflat/np.median(masterflat), hdr, overwrite=True)"
   ]
  },
  {
   "cell_type": "markdown",
   "metadata": {},
   "source": [
    "## Step 4: Reduce the science images."
   ]
  },
  {
   "cell_type": "code",
   "execution_count": 76,
   "metadata": {},
   "outputs": [
    {
     "name": "stdout",
     "output_type": "stream",
     "text": [
      "Found  3 science files.\n"
     ]
    }
   ],
   "source": [
    "sci_dir = 'C:/Users/demar/Downloads/20200306-OGSRC20/20200306-OGSRC20/NGC1912/' # Directory for every science image\n",
    "\n",
    "sci_list = glob.glob(sci_dir + 'light*.fit')  # Assigning all science image files to sci_list\n",
    "\n",
    "im_s,hdr = fits.getdata(sci_list[0], dtype='f', header=True) # Data for first science file\n",
    " \n",
    "sci_n = len(sci_list) \n",
    "\n",
    "print('Found ', sci_n, 'science files.')"
   ]
  },
  {
   "cell_type": "markdown",
   "metadata": {},
   "source": [
    "#### Subtract master bias frame and dark frame from science images "
   ]
  },
  {
   "cell_type": "code",
   "execution_count": 77,
   "metadata": {},
   "outputs": [],
   "source": [
    "# Loop through science images and subtract the mean bias\n",
    "\n",
    "for i in range(0,sci_n):    \n",
    "    \n",
    "    im_s = fits.getdata(sci_list[i])\n",
    "    \n",
    "    basename = sci_list[i].strip('.fit')\n",
    "    \n",
    "    bias_subtracted = im_s - bias_mean \n",
    "    \n",
    "    dark_bias_sub = bias_subtracted - dark_med\n",
    "\n",
    "    fits.writeto(basename+'.bias.dark.fit',bias_subtracted, hdr, overwrite=True) \n",
    "    "
   ]
  },
  {
   "cell_type": "markdown",
   "metadata": {},
   "source": [
    "#### Finish data reduction by dividing the images by the master flat"
   ]
  },
  {
   "cell_type": "code",
   "execution_count": 78,
   "metadata": {},
   "outputs": [
    {
     "name": "stdout",
     "output_type": "stream",
     "text": [
      "Found  1 B science files.\n",
      "Found  1 R science files.\n",
      "Found  1 V science files.\n"
     ]
    }
   ],
   "source": [
    "filters = ['B','R','V']\n",
    "\n",
    "for filter in filters: # Using the same filters as before\n",
    "\n",
    "    sci_list = glob.glob(sci_dir + 'light_*' + filter + '*bias.dark.fit') \n",
    "    \n",
    "    sci_n = len(sci_list) \n",
    "\n",
    "    print('Found ', sci_n, filter, 'science files.') \n",
    "\n",
    "    master_flat = fits.getdata(indir + 'masterflat_' + filter + '.fits')\n",
    "    \n",
    "    for i in range(0,sci_n):      \n",
    "        \n",
    "        im_s,hdr = fits.getdata(sci_list[i], header=True) \n",
    "        \n",
    "        basename = sci_list[i].strip('.fits')\n",
    "        \n",
    "        reduced_sci = im_s/master_flat\n",
    "\n",
    "        fits.writeto(basename + '.reduced.fits',reduced_sci, hdr, overwrite=True)"
   ]
  },
  {
   "cell_type": "markdown",
   "metadata": {},
   "source": [
    "Note: to distinguish the fully reduced files you can put them in another folder, to view them you may use DS9 and check the counts to see how they differ from the original. "
   ]
  },
  {
   "cell_type": "markdown",
   "metadata": {},
   "source": [
    "## Step 5\n",
    "reduce data to create a color magnitude diagram of the NGC2099 cluster"
   ]
  },
  {
   "cell_type": "code",
   "execution_count": 81,
   "metadata": {},
   "outputs": [],
   "source": [
    "import matplotlib.pyplot as plt\n",
    "import pandas as pd"
   ]
  },
  {
   "cell_type": "code",
   "execution_count": 128,
   "metadata": {},
   "outputs": [
    {
     "data": {
      "text/plain": [
       "Text(0, 0.5, 'Vr - Relative Magnitude\\n(with respect to reference star)')"
      ]
     },
     "execution_count": 128,
     "metadata": {},
     "output_type": "execute_result"
    },
    {
     "data": {
      "image/png": "[encoded data removed]",
      "text/plain": [
       "<Figure size 432x288 with 1 Axes>"
      ]
     },
     "metadata": {
      "needs_background": "light"
     },
     "output_type": "display_data"
    }
   ],
   "source": [
    "# import B & V reduced image files:\n",
    "sci_list_B = glob.glob(sci_dir + 'light_B*bias.dark.fit')\n",
    "sci_list_V = glob.glob(sci_dir + 'light_V*bias.dark.fit')\n",
    "\n",
    "b_data = pd.read_excel(sci_dir + 'B_Measurements.xlsx', sheet_name = 'data')\n",
    "v_data = pd.read_excel(sci_dir + 'V_Measurement.xlsx', sheet_name = 'data')\n",
    "\n",
    "# find the difference of the B and V band magnitudes (B-V)\n",
    "difference = b_data - v_data\n",
    "\n",
    "# plot the resuling magnitudes\n",
    "plt.scatter(difference,v_data)\n",
    "plt.gca().invert_yaxis()\n",
    "plt.title('CMD of Messier 37 (NGC1912)')\n",
    "plt.xlabel('B-V (color)')\n",
    "plt.ylabel('Vr - Relative Magnitude\\n(with respect to reference star)')"
   ]
  },
  {
   "cell_type": "code",
   "execution_count": null,
   "metadata": {},
   "outputs": [],
   "source": []
  },
  {
   "cell_type": "code",
   "execution_count": null,
   "metadata": {},
   "outputs": [],
   "source": []
  },
  {
   "cell_type": "code",
   "execution_count": null,
   "metadata": {},
   "outputs": [],
   "source": []
  }
 ],
 "metadata": {
  "kernelspec": {
   "display_name": "Python 3",
   "language": "python",
   "name": "python3"
  },
  "language_info": {
   "codemirror_mode": {
    "name": "ipython",
    "version": 3
   },
   "file_extension": ".py",
   "mimetype": "text/x-python",
   "name": "python",
   "nbconvert_exporter": "python",
   "pygments_lexer": "ipython3",
   "version": "3.7.1"
  }
 },
 "nbformat": 4,
 "nbformat_minor": 2
}
